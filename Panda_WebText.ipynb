{
  "nbformat": 4,
  "nbformat_minor": 0,
  "metadata": {
    "colab": {
      "name": "Lab15_Web_Text.ipynb",
      "provenance": [],
      "collapsed_sections": []
    },
    "kernelspec": {
      "display_name": "Python 3",
      "language": "python",
      "name": "python3"
    }
  },
  "cells": [
    {
      "cell_type": "markdown",
      "metadata": {
        "id": "Wwn-BSOXqr7u"
      },
      "source": [
        "# Getting Data: Web & Text\n",
        "\n",
        "Today we will be looking at scraping data from websites that have no API and work with manipulating text data."
      ]
    },
    {
      "cell_type": "markdown",
      "metadata": {
        "id": "rpz0MtJyqr7w"
      },
      "source": [
        "## Extracting tables from websites using Pandas\n",
        "\n",
        "Yes it is true, Pandas can do just about everything.  We will use a Pandas function that can read information from websites that is stored in tables.\n",
        "\n",
        "### The Website: Box Office Mojo\n",
        "\n",
        "[boxofficemojo.com](https://www.boxofficemojo.com) contains a wealth of information on the performance of movies during their theater runs.  We will practice extracting some of the information from the tables hosted on the site.\n",
        "\n",
        "**First!** We need to check to see if the site has any policies against scraping and automated access.  Let us check their [robots.txt](https://www.boxofficemojo.com/robots.txt) file.  Click on the link and take a look.  It seems that automated data collection is allowed in all regions of the website.\n",
        "\n",
        "Now we will select a data table.  Let us look at the top movies for the weekend of January 3-5, 2020 (the first weekend in January)\n",
        "\n",
        "https://www.boxofficemojo.com/weekend/2020W01/\n",
        "\n",
        "You should do the following.\n",
        "\n",
        "1. Click on the link and inspect the contents of the page.\n",
        "2. While on the page, look at the structure of the HTML that is used to format the data table.  You can see the HTML of any page by inspecting the page source.  The exact way you do this depends on your browser, in Chrome it is: Click on the View menu, then Developer, then View Source.\n",
        "\n",
        "Ok, now let's go get that data!"
      ]
    },
    {
      "cell_type": "code",
      "metadata": {
        "id": "CKSQ0O38qr7y"
      },
      "source": [
        "import pandas as pd\n",
        "\n",
        "tables = pd.read_html(\"https://www.boxofficemojo.com/weekend/2020W01/\")"
      ],
      "execution_count": null,
      "outputs": []
    },
    {
      "cell_type": "markdown",
      "metadata": {
        "id": "qsqjSzd_qr72"
      },
      "source": [
        "`tables` is a list of tables from the page.  Let's see how many there are."
      ]
    },
    {
      "cell_type": "code",
      "metadata": {
        "id": "VpEMUMy0qr73",
        "colab": {
          "base_uri": "https://localhost:8080/",
          "height": 34
        },
        "outputId": "17425e45-c808-437b-a0ee-cf63a92a0477"
      },
      "source": [
        "len(tables)"
      ],
      "execution_count": null,
      "outputs": [
        {
          "output_type": "execute_result",
          "data": {
            "text/plain": [
              "1"
            ]
          },
          "metadata": {
            "tags": []
          },
          "execution_count": 2
        }
      ]
    },
    {
      "cell_type": "markdown",
      "metadata": {
        "id": "Hsr7oCJgqr78"
      },
      "source": [
        "Let's see what data is in each table."
      ]
    },
    {
      "cell_type": "code",
      "metadata": {
        "id": "OBHtXUFNqr79",
        "colab": {
          "base_uri": "https://localhost:8080/",
          "height": 255
        },
        "outputId": "1ed2be54-6089-4958-86a7-dd8a710f4feb"
      },
      "source": [
        "for t in tables:\n",
        "    display(t.head())"
      ],
      "execution_count": null,
      "outputs": [
        {
          "output_type": "display_data",
          "data": {
            "text/html": [
              "<div>\n",
              "<style scoped>\n",
              "    .dataframe tbody tr th:only-of-type {\n",
              "        vertical-align: middle;\n",
              "    }\n",
              "\n",
              "    .dataframe tbody tr th {\n",
              "        vertical-align: top;\n",
              "    }\n",
              "\n",
              "    .dataframe thead th {\n",
              "        text-align: right;\n",
              "    }\n",
              "</style>\n",
              "<table border=\"1\" class=\"dataframe\">\n",
              "  <thead>\n",
              "    <tr style=\"text-align: right;\">\n",
              "      <th></th>\n",
              "      <th>Rank</th>\n",
              "      <th>LW</th>\n",
              "      <th>Release</th>\n",
              "      <th>Gross</th>\n",
              "      <th>%± LW</th>\n",
              "      <th>Theaters</th>\n",
              "      <th>Change</th>\n",
              "      <th>Average</th>\n",
              "      <th>Total Gross</th>\n",
              "      <th>Weeks</th>\n",
              "      <th>Distributor</th>\n",
              "      <th>New This Week</th>\n",
              "      <th>Estimated</th>\n",
              "    </tr>\n",
              "  </thead>\n",
              "  <tbody>\n",
              "    <tr>\n",
              "      <th>0</th>\n",
              "      <td>1</td>\n",
              "      <td>1</td>\n",
              "      <td>Star Wars: Episode IX - The Rise of Skywalker</td>\n",
              "      <td>$34,524,815</td>\n",
              "      <td>-52.3%</td>\n",
              "      <td>4406</td>\n",
              "      <td>-</td>\n",
              "      <td>$7,835</td>\n",
              "      <td>$451,582,256</td>\n",
              "      <td>3</td>\n",
              "      <td>Walt Disney Studios Motion Pictures</td>\n",
              "      <td>False</td>\n",
              "      <td>False</td>\n",
              "    </tr>\n",
              "    <tr>\n",
              "      <th>1</th>\n",
              "      <td>2</td>\n",
              "      <td>2</td>\n",
              "      <td>Jumanji: The Next Level</td>\n",
              "      <td>$26,227,346</td>\n",
              "      <td>-25.6%</td>\n",
              "      <td>4134</td>\n",
              "      <td>-93</td>\n",
              "      <td>$6,344</td>\n",
              "      <td>$235,933,751</td>\n",
              "      <td>4</td>\n",
              "      <td>Sony Pictures Releasing</td>\n",
              "      <td>False</td>\n",
              "      <td>False</td>\n",
              "    </tr>\n",
              "    <tr>\n",
              "      <th>2</th>\n",
              "      <td>3</td>\n",
              "      <td>4</td>\n",
              "      <td>Little Women</td>\n",
              "      <td>$13,612,373</td>\n",
              "      <td>-18.8%</td>\n",
              "      <td>3308</td>\n",
              "      <td>-</td>\n",
              "      <td>$4,114</td>\n",
              "      <td>$60,060,705</td>\n",
              "      <td>2</td>\n",
              "      <td>Sony Pictures Releasing</td>\n",
              "      <td>False</td>\n",
              "      <td>False</td>\n",
              "    </tr>\n",
              "    <tr>\n",
              "      <th>3</th>\n",
              "      <td>4</td>\n",
              "      <td>3</td>\n",
              "      <td>Frozen II</td>\n",
              "      <td>$11,854,169</td>\n",
              "      <td>-29.8%</td>\n",
              "      <td>3175</td>\n",
              "      <td>-90</td>\n",
              "      <td>$3,733</td>\n",
              "      <td>$450,439,533</td>\n",
              "      <td>7</td>\n",
              "      <td>Walt Disney Studios Motion Pictures</td>\n",
              "      <td>False</td>\n",
              "      <td>False</td>\n",
              "    </tr>\n",
              "    <tr>\n",
              "      <th>4</th>\n",
              "      <td>5</td>\n",
              "      <td>-</td>\n",
              "      <td>The Grudge</td>\n",
              "      <td>$11,404,113</td>\n",
              "      <td>-</td>\n",
              "      <td>2642</td>\n",
              "      <td>-</td>\n",
              "      <td>$4,316</td>\n",
              "      <td>$11,404,113</td>\n",
              "      <td>1</td>\n",
              "      <td>Sony Pictures Releasing</td>\n",
              "      <td>True</td>\n",
              "      <td>False</td>\n",
              "    </tr>\n",
              "  </tbody>\n",
              "</table>\n",
              "</div>"
            ],
            "text/plain": [
              "   Rank LW  ... New This Week Estimated\n",
              "0     1  1  ...         False     False\n",
              "1     2  2  ...         False     False\n",
              "2     3  4  ...         False     False\n",
              "3     4  3  ...         False     False\n",
              "4     5  -  ...          True     False\n",
              "\n",
              "[5 rows x 13 columns]"
            ]
          },
          "metadata": {
            "tags": []
          }
        }
      ]
    },
    {
      "cell_type": "markdown",
      "metadata": {
        "id": "0eMSP7a5qr8B"
      },
      "source": [
        "There is only one table in this case and the one has the data we want."
      ]
    },
    {
      "cell_type": "code",
      "metadata": {
        "id": "3u0ubkBEqr8C",
        "colab": {
          "base_uri": "https://localhost:8080/",
          "height": 255
        },
        "outputId": "a3fa23fb-fce4-4ba4-9c30-ec605b17c3e7"
      },
      "source": [
        "movieData = tables[0]\n",
        "\n",
        "movieData.head()"
      ],
      "execution_count": null,
      "outputs": [
        {
          "output_type": "execute_result",
          "data": {
            "text/html": [
              "<div>\n",
              "<style scoped>\n",
              "    .dataframe tbody tr th:only-of-type {\n",
              "        vertical-align: middle;\n",
              "    }\n",
              "\n",
              "    .dataframe tbody tr th {\n",
              "        vertical-align: top;\n",
              "    }\n",
              "\n",
              "    .dataframe thead th {\n",
              "        text-align: right;\n",
              "    }\n",
              "</style>\n",
              "<table border=\"1\" class=\"dataframe\">\n",
              "  <thead>\n",
              "    <tr style=\"text-align: right;\">\n",
              "      <th></th>\n",
              "      <th>Rank</th>\n",
              "      <th>LW</th>\n",
              "      <th>Release</th>\n",
              "      <th>Gross</th>\n",
              "      <th>%± LW</th>\n",
              "      <th>Theaters</th>\n",
              "      <th>Change</th>\n",
              "      <th>Average</th>\n",
              "      <th>Total Gross</th>\n",
              "      <th>Weeks</th>\n",
              "      <th>Distributor</th>\n",
              "      <th>New This Week</th>\n",
              "      <th>Estimated</th>\n",
              "    </tr>\n",
              "  </thead>\n",
              "  <tbody>\n",
              "    <tr>\n",
              "      <th>0</th>\n",
              "      <td>1</td>\n",
              "      <td>1</td>\n",
              "      <td>Star Wars: Episode IX - The Rise of Skywalker</td>\n",
              "      <td>$34,524,815</td>\n",
              "      <td>-52.3%</td>\n",
              "      <td>4406</td>\n",
              "      <td>-</td>\n",
              "      <td>$7,835</td>\n",
              "      <td>$451,582,256</td>\n",
              "      <td>3</td>\n",
              "      <td>Walt Disney Studios Motion Pictures</td>\n",
              "      <td>False</td>\n",
              "      <td>False</td>\n",
              "    </tr>\n",
              "    <tr>\n",
              "      <th>1</th>\n",
              "      <td>2</td>\n",
              "      <td>2</td>\n",
              "      <td>Jumanji: The Next Level</td>\n",
              "      <td>$26,227,346</td>\n",
              "      <td>-25.6%</td>\n",
              "      <td>4134</td>\n",
              "      <td>-93</td>\n",
              "      <td>$6,344</td>\n",
              "      <td>$235,933,751</td>\n",
              "      <td>4</td>\n",
              "      <td>Sony Pictures Releasing</td>\n",
              "      <td>False</td>\n",
              "      <td>False</td>\n",
              "    </tr>\n",
              "    <tr>\n",
              "      <th>2</th>\n",
              "      <td>3</td>\n",
              "      <td>4</td>\n",
              "      <td>Little Women</td>\n",
              "      <td>$13,612,373</td>\n",
              "      <td>-18.8%</td>\n",
              "      <td>3308</td>\n",
              "      <td>-</td>\n",
              "      <td>$4,114</td>\n",
              "      <td>$60,060,705</td>\n",
              "      <td>2</td>\n",
              "      <td>Sony Pictures Releasing</td>\n",
              "      <td>False</td>\n",
              "      <td>False</td>\n",
              "    </tr>\n",
              "    <tr>\n",
              "      <th>3</th>\n",
              "      <td>4</td>\n",
              "      <td>3</td>\n",
              "      <td>Frozen II</td>\n",
              "      <td>$11,854,169</td>\n",
              "      <td>-29.8%</td>\n",
              "      <td>3175</td>\n",
              "      <td>-90</td>\n",
              "      <td>$3,733</td>\n",
              "      <td>$450,439,533</td>\n",
              "      <td>7</td>\n",
              "      <td>Walt Disney Studios Motion Pictures</td>\n",
              "      <td>False</td>\n",
              "      <td>False</td>\n",
              "    </tr>\n",
              "    <tr>\n",
              "      <th>4</th>\n",
              "      <td>5</td>\n",
              "      <td>-</td>\n",
              "      <td>The Grudge</td>\n",
              "      <td>$11,404,113</td>\n",
              "      <td>-</td>\n",
              "      <td>2642</td>\n",
              "      <td>-</td>\n",
              "      <td>$4,316</td>\n",
              "      <td>$11,404,113</td>\n",
              "      <td>1</td>\n",
              "      <td>Sony Pictures Releasing</td>\n",
              "      <td>True</td>\n",
              "      <td>False</td>\n",
              "    </tr>\n",
              "  </tbody>\n",
              "</table>\n",
              "</div>"
            ],
            "text/plain": [
              "   Rank LW  ... New This Week Estimated\n",
              "0     1  1  ...         False     False\n",
              "1     2  2  ...         False     False\n",
              "2     3  4  ...         False     False\n",
              "3     4  3  ...         False     False\n",
              "4     5  -  ...          True     False\n",
              "\n",
              "[5 rows x 13 columns]"
            ]
          },
          "metadata": {
            "tags": []
          },
          "execution_count": 4
        }
      ]
    },
    {
      "cell_type": "markdown",
      "metadata": {
        "id": "G_uVoe5Uqr8Q"
      },
      "source": [
        "Now we shall take a look at the data by making some scatter plots to investigate relationships between pairs of columns.  First, we can compare **Gross** with **Weeks** to see if new movies make more money than those that have been out for a while. \n",
        "\n",
        "Hmm, looking at **Gross**, we can see there are dollar signs in the values given which means that those entries are not just numbers.  This could confuse our plotting routines."
      ]
    },
    {
      "cell_type": "code",
      "metadata": {
        "id": "n1Svs3elqr8S",
        "colab": {
          "base_uri": "https://localhost:8080/",
          "height": 255
        },
        "outputId": "6d40ace9-fb18-40dc-b02b-3e3aeb9e8173"
      },
      "source": [
        "movieData.dtypes"
      ],
      "execution_count": null,
      "outputs": [
        {
          "output_type": "execute_result",
          "data": {
            "text/plain": [
              "Rank              int64\n",
              "LW               object\n",
              "Release          object\n",
              "Gross            object\n",
              "%± LW            object\n",
              "Theaters          int64\n",
              "Change           object\n",
              "Average          object\n",
              "Total Gross      object\n",
              "Weeks             int64\n",
              "Distributor      object\n",
              "New This Week      bool\n",
              "Estimated          bool\n",
              "dtype: object"
            ]
          },
          "metadata": {
            "tags": []
          },
          "execution_count": 5
        }
      ]
    },
    {
      "cell_type": "code",
      "metadata": {
        "id": "GV-3zVUzqr8Y",
        "colab": {
          "base_uri": "https://localhost:8080/",
          "height": 255
        },
        "outputId": "e8a16bff-a5ad-4e9d-c3e6-2ead6e21dbbf"
      },
      "source": [
        "# Get rid of dollar signs and commas then cast as a number\n",
        "movieData[\"Gross\"].replace('[\\$,]', '', regex=True, inplace=True)\n",
        "movieData[\"Gross\"] = movieData[\"Gross\"].apply(pd.to_numeric)\n",
        "\n",
        "# Do Total Gross too\n",
        "movieData[\"Total Gross\"].replace('[\\$,]', '', regex=True, inplace=True)\n",
        "movieData[\"Total Gross\"] = movieData[\"Total Gross\"].apply(pd.to_numeric)\n",
        "\n",
        "movieData.dtypes"
      ],
      "execution_count": null,
      "outputs": [
        {
          "output_type": "execute_result",
          "data": {
            "text/plain": [
              "Rank              int64\n",
              "LW               object\n",
              "Release          object\n",
              "Gross             int64\n",
              "%± LW            object\n",
              "Theaters          int64\n",
              "Change           object\n",
              "Average          object\n",
              "Total Gross       int64\n",
              "Weeks             int64\n",
              "Distributor      object\n",
              "New This Week      bool\n",
              "Estimated          bool\n",
              "dtype: object"
            ]
          },
          "metadata": {
            "tags": []
          },
          "execution_count": 6
        }
      ]
    },
    {
      "cell_type": "code",
      "metadata": {
        "id": "1iFpJ334qr8c",
        "colab": {
          "base_uri": "https://localhost:8080/",
          "height": 369
        },
        "outputId": "f81d6662-552d-4de7-b32f-42d13cc34066"
      },
      "source": [
        "%matplotlib inline\n",
        "import matplotlib.pyplot as plt\n",
        "import seaborn as sns\n",
        "\n",
        "sns.lmplot(x='Weeks', y='Gross', data=movieData, fit_reg=False)\n",
        "ax = plt.gca()\n",
        "ax.set_xlim(-2, 21)\n",
        "ax.set_ylabel('Weekend Gross(\\$)')\n",
        "ax.set_xlabel('Number of Weeks');"
      ],
      "execution_count": null,
      "outputs": [
        {
          "output_type": "display_data",
          "data": {
            "image/png": "[encoded data removed]",
            "text/plain": [
              "<Figure size 360x360 with 1 Axes>"
            ]
          },
          "metadata": {
            "tags": []
          }
        }
      ]
    },
    {
      "cell_type": "markdown",
      "metadata": {
        "id": "7mYE4dY6qr8j"
      },
      "source": [
        "Now let's look to see if movies that have been out longer make more money overall."
      ]
    },
    {
      "cell_type": "code",
      "metadata": {
        "id": "6_K6AkTzqr8k",
        "colab": {
          "base_uri": "https://localhost:8080/",
          "height": 369
        },
        "outputId": "cbf93cc0-83eb-4b04-9caf-43d8f99564f7"
      },
      "source": [
        "sns.lmplot(x='Weeks', y='Total Gross', data=movieData, fit_reg=False)\n",
        "ax = plt.gca()\n",
        "ax.set_xlim(-2, 21)\n",
        "ax.set_ylabel('Total Gross(\\$)')\n",
        "ax.set_xlabel('Number of Weeks');"
      ],
      "execution_count": null,
      "outputs": [
        {
          "output_type": "display_data",
          "data": {
            "image/png": "[encoded data removed]",
            "text/plain": [
              "<Figure size 360x360 with 1 Axes>"
            ]
          },
          "metadata": {
            "tags": []
          }
        }
      ]
    },
    {
      "cell_type": "code",
      "metadata": {
        "id": "IswWS4-Iqr8p"
      },
      "source": [
        "# TASK 1: Repeat the above analysis for the most recent weekend. You can do this by repeating\n",
        "# the code above, making the appropriate changes or you can just modify the first code cell\n",
        "# and re-run all the cells to this point.\n",
        "sns.lmplot(x='Weeks', y='Total Gross', data=movieData, fit_reg=False)\n",
        "ax = plt.gca()\n",
        "ax.set_xlim(-2, 21)\n",
        "ax.set_ylabel('Total Gross(\\$)')\n",
        "ax.set_xlabel('Number of Weeks');"
      ],
      "execution_count": null,
      "outputs": []
    },
    {
      "cell_type": "markdown",
      "metadata": {
        "id": "_2uyxQMpqr8t"
      },
      "source": [
        "## Beautiful Soup\n",
        "\n",
        "The Pandas read_html function works great for simple tables.  For websites that contain information in a less structured format, we will need to use an HTML parser, such as Beautiful Soup."
      ]
    },
    {
      "cell_type": "code",
      "metadata": {
        "id": "UEuDF2XKqr8t"
      },
      "source": [
        "from bs4 import BeautifulSoup\n",
        "import requests\n",
        "import re"
      ],
      "execution_count": null,
      "outputs": []
    },
    {
      "cell_type": "markdown",
      "metadata": {
        "id": "P3W3xzcHqr8v"
      },
      "source": [
        "We will use Beautiful Soup to extract information from the archive of National Public Radio technology news stories.  \n",
        "\n",
        "**First** have a look at NPR's [robots.txt](https://www.npr.org/robots.txt)\n",
        "\n",
        "There is nothing there that disallows scraping of the news stories.\n",
        "\n",
        "Now we will get the html from [here](https://www.npr.org/sections/technology/archive) and inspect it.  You should open this page in a different tab so that you can compare the html with the page."
      ]
    },
    {
      "cell_type": "code",
      "metadata": {
        "id": "Prq3RA1-qr8w"
      },
      "source": [
        "url = 'https://www.npr.org/sections/technology/archive'\n",
        "html = requests.get(url).text\n",
        "\n",
        "soup = BeautifulSoup(html, 'html5lib') # parse the html\n",
        "\n",
        "print(soup.prettify()) # print a nicely formatted look at the html"
      ],
      "execution_count": null,
      "outputs": []
    },
    {
      "cell_type": "markdown",
      "metadata": {
        "id": "pvO5uInXqr82"
      },
      "source": [
        "You will need to scroll down a ways to start seeing the stories.  Here is the html for an example story:\n",
        "\n",
        "Each article entry is spanned by `<article></article>` tags.  We will first pull out all of these articles."
      ]
    },
    {
      "cell_type": "code",
      "metadata": {
        "id": "ir9_zoGKqr82"
      },
      "source": [
        "articles = soup.find_all('article')\n",
        "len(articles)  # How many articles did we get?"
      ],
      "execution_count": null,
      "outputs": []
    },
    {
      "cell_type": "code",
      "metadata": {
        "id": "2Y9VjAdGqr86"
      },
      "source": [
        "articles[0] # Look at the content of the first article"
      ],
      "execution_count": null,
      "outputs": []
    },
    {
      "cell_type": "markdown",
      "metadata": {
        "id": "9MncJbNUqr8-"
      },
      "source": [
        "The data about the article is stored in `<div>` elements.  We can find the title of the first story by finding the `<div>` element with the `item-info` attribute.  The title is the text portion under a header element.  "
      ]
    },
    {
      "cell_type": "code",
      "metadata": {
        "id": "ua4OvfHiqr8_",
        "colab": {
          "base_uri": "https://localhost:8080/",
          "height": 34
        },
        "outputId": "bf29ab64-1f5f-442b-8d96-aa147800855d"
      },
      "source": [
        "title = articles[0].find(\"div\", \"item-info\").h2.text\n",
        "title"
      ],
      "execution_count": null,
      "outputs": [
        {
          "output_type": "execute_result",
          "data": {
            "text/plain": [
              "'SXSW Events Canceled Over Coronavirus Concerns'"
            ]
          },
          "metadata": {
            "tags": []
          },
          "execution_count": 13
        }
      ]
    },
    {
      "cell_type": "markdown",
      "metadata": {
        "id": "YrwbeycWqr9D"
      },
      "source": [
        "There is a blurb or \"teaser\" describing the article that is also stored in the `<div>` element with the `item-info` attribute."
      ]
    },
    {
      "cell_type": "code",
      "metadata": {
        "id": "MtL8MpRBqr9D",
        "colab": {
          "base_uri": "https://localhost:8080/",
          "height": 54
        },
        "outputId": "0b8bc903-1a3f-4f24-a4ba-11627b56b777"
      },
      "source": [
        "teaser = articles[0].find(\"div\", \"item-info\").p.text\n",
        "teaser"
      ],
      "execution_count": null,
      "outputs": [
        {
          "output_type": "execute_result",
          "data": {
            "text/plain": [
              "'March 7, 2020 • South by Southwest — a massive art, music and technology festival — has been canceled over fears that visitors might help spread the coronavirus in Austin, Texas.'"
            ]
          },
          "metadata": {
            "tags": []
          },
          "execution_count": 14
        }
      ]
    },
    {
      "cell_type": "markdown",
      "metadata": {
        "id": "HGWRHXerqr9G"
      },
      "source": [
        "We can see that the `<p>` element contains both the date and the teaser, which we want to separate."
      ]
    },
    {
      "cell_type": "code",
      "metadata": {
        "id": "cpYGoU6bqr9H",
        "colab": {
          "base_uri": "https://localhost:8080/",
          "height": 34
        },
        "outputId": "82e4a23b-00ee-413f-f272-94f2c7265883"
      },
      "source": [
        "date = articles[0].find(\"div\", \"item-info\").p.span.text\n",
        "date"
      ],
      "execution_count": null,
      "outputs": [
        {
          "output_type": "execute_result",
          "data": {
            "text/plain": [
              "'March 7, 2020 • '"
            ]
          },
          "metadata": {
            "tags": []
          },
          "execution_count": 15
        }
      ]
    },
    {
      "cell_type": "code",
      "metadata": {
        "id": "b-PnZO7Vqr9K",
        "colab": {
          "base_uri": "https://localhost:8080/",
          "height": 54
        },
        "outputId": "9fc95291-b479-49b9-bd48-93b6dd0567b9"
      },
      "source": [
        "teaser = teaser.replace(date, '')\n",
        "teaser"
      ],
      "execution_count": null,
      "outputs": [
        {
          "output_type": "execute_result",
          "data": {
            "text/plain": [
              "'South by Southwest — a massive art, music and technology festival — has been canceled over fears that visitors might help spread the coronavirus in Austin, Texas.'"
            ]
          },
          "metadata": {
            "tags": []
          },
          "execution_count": 16
        }
      ]
    },
    {
      "cell_type": "markdown",
      "metadata": {
        "id": "UXIyukMYqr9N"
      },
      "source": [
        "The date can be split into month, day and year using regular expressions. Putting round parentheses `()` around a part of the regular expression designates it as a group that can be referenced once a match has been found."
      ]
    },
    {
      "cell_type": "code",
      "metadata": {
        "id": "r22tOH2Jqr9O",
        "colab": {
          "base_uri": "https://localhost:8080/",
          "height": 85
        },
        "outputId": "e300ed5a-9a32-43ef-e4f6-48a59fa59c85"
      },
      "source": [
        "import re\n",
        "\n",
        "dmatch = re.match(r'([a-zA-Z]+) (\\d+), (\\d+)', date)\n",
        "print('The whole match = ', dmatch.group(0))\n",
        "month = dmatch.group(1)\n",
        "print('Month = ', month)\n",
        "day = dmatch.group(2)\n",
        "print('Day = ', day)\n",
        "year = dmatch.group(3)\n",
        "print('Year = ', year)"
      ],
      "execution_count": null,
      "outputs": [
        {
          "output_type": "stream",
          "text": [
            "The whole match =  March 7, 2020\n",
            "Month =  March\n",
            "Day =  7\n",
            "Year =  2020\n"
          ],
          "name": "stdout"
        }
      ]
    },
    {
      "cell_type": "markdown",
      "metadata": {
        "id": "v8VTqgAbqr9S"
      },
      "source": [
        "Lastly, we will want to extract the url for the article."
      ]
    },
    {
      "cell_type": "code",
      "metadata": {
        "id": "3Q-PRywoqr9T",
        "colab": {
          "base_uri": "https://localhost:8080/",
          "height": 34
        },
        "outputId": "0f3f9e0a-36e6-41c5-c20e-14d2b8dd2923"
      },
      "source": [
        "url = articles[0].find(\"div\", \"item-info\").h2.a.get('href')\n",
        "url"
      ],
      "execution_count": null,
      "outputs": [
        {
          "output_type": "execute_result",
          "data": {
            "text/plain": [
              "'https://www.npr.org/2020/03/07/813192987/sxsw-events-canceled-over-coronavirus-concerns'"
            ]
          },
          "metadata": {
            "tags": []
          },
          "execution_count": 18
        }
      ]
    },
    {
      "cell_type": "code",
      "metadata": {
        "id": "1YUaZvKfqr9V"
      },
      "source": [
        "# TASK 2 - In the <p class=\"teaser\"> element there is a <time> element that contains the \n",
        "# date in a the format 2019-01-15 \n",
        "# Extract this date for articles[0] and store it in a variable called date2\n"
      ],
      "execution_count": null,
      "outputs": []
    },
    {
      "cell_type": "markdown",
      "metadata": {
        "id": "900TMzXrqr9Z"
      },
      "source": [
        "Now that we have had some practice with a single article, we will pull out the above information for all of the articles."
      ]
    },
    {
      "cell_type": "code",
      "metadata": {
        "id": "JZkAVcb7qr9Z"
      },
      "source": [
        "def isaudio(article):\n",
        "    \"\"\"isaudio(article)\n",
        "    Some \"articles\" are not true articles but just add buttons\n",
        "    to the previously listed article to play an audio version \n",
        "    of the story\n",
        "    Input: article\n",
        "    Output: returns True if the article is audio buttons, False\n",
        "    otherwise\"\"\"\n",
        "     \n",
        "    return article.get('class')[0] == 'bucketwrap'\n",
        "\n",
        "def articleinfo(article):\n",
        "    \"\"\"title, teaser, date, url = articleinfo(article)\n",
        "    articleinfo - pulls information from an article's html \n",
        "    Input: article\n",
        "    Outputs: title, teaser, date, url\"\"\"\n",
        "    \n",
        "    # Skip audio-module \"articles\" which are not true articles\n",
        "    # but just add buttons to play audio\n",
        "    \n",
        "    if not isaudio(article):\n",
        "        title = article.find(\"div\", \"item-info\").h2.text\n",
        "        teaser = article.find(\"div\", \"item-info\").p.text\n",
        "        date = article.find(\"div\", \"item-info\").p.span.text\n",
        "        teaser = teaser.replace(date, '')\n",
        "        url = article.find(\"div\", \"item-info\").h2.a.get('href')\n",
        "    else:\n",
        "        title = []\n",
        "        teaser = []\n",
        "        date = []\n",
        "        url = []\n",
        "    \n",
        "    return (title, teaser, date, url)\n"
      ],
      "execution_count": null,
      "outputs": []
    },
    {
      "cell_type": "code",
      "metadata": {
        "id": "L9ZCFK-Dqr9c"
      },
      "source": [
        "titles = []\n",
        "teasers = []\n",
        "dates = []\n",
        "urls = []\n",
        "\n",
        "for article in articles:\n",
        "    title, teaser, date, url = articleinfo(article)\n",
        "    if title != []:\n",
        "        titles.append(title)\n",
        "        teasers.append(teaser)\n",
        "        dates.append(date)\n",
        "        urls.append(url)\n",
        "        "
      ],
      "execution_count": null,
      "outputs": []
    },
    {
      "cell_type": "code",
      "metadata": {
        "id": "brG6f-wRqr9e"
      },
      "source": [
        "# Parse the dates\n",
        "months = []\n",
        "days = []\n",
        "years = []\n",
        "for date in dates:\n",
        "    dmatch = re.match(r'([a-zA-Z]+) (\\d+), (\\d+)', date)\n",
        "    months.append(dmatch.group(1))\n",
        "    days.append(dmatch.group(2))\n",
        "    years.append(dmatch.group(3))"
      ],
      "execution_count": null,
      "outputs": []
    },
    {
      "cell_type": "markdown",
      "metadata": {
        "id": "oo70_Fr-qr9g"
      },
      "source": [
        "Now we will build a pandas DataFrame with our information."
      ]
    },
    {
      "cell_type": "code",
      "metadata": {
        "id": "5UNSu71Lqr9h",
        "colab": {
          "base_uri": "https://localhost:8080/",
          "height": 204
        },
        "outputId": "1eceb3d3-d217-4a46-f235-f55a95f08bb0"
      },
      "source": [
        "nprtech = pd.DataFrame({'Title': titles, 'Teaser': teasers, 'Month': months,\n",
        "                       'Day': days, 'Year': year, 'url': urls})\n",
        "nprtech.head()"
      ],
      "execution_count": null,
      "outputs": [
        {
          "output_type": "execute_result",
          "data": {
            "text/html": [
              "<div>\n",
              "<style scoped>\n",
              "    .dataframe tbody tr th:only-of-type {\n",
              "        vertical-align: middle;\n",
              "    }\n",
              "\n",
              "    .dataframe tbody tr th {\n",
              "        vertical-align: top;\n",
              "    }\n",
              "\n",
              "    .dataframe thead th {\n",
              "        text-align: right;\n",
              "    }\n",
              "</style>\n",
              "<table border=\"1\" class=\"dataframe\">\n",
              "  <thead>\n",
              "    <tr style=\"text-align: right;\">\n",
              "      <th></th>\n",
              "      <th>Title</th>\n",
              "      <th>Teaser</th>\n",
              "      <th>Month</th>\n",
              "      <th>Day</th>\n",
              "      <th>Year</th>\n",
              "      <th>url</th>\n",
              "    </tr>\n",
              "  </thead>\n",
              "  <tbody>\n",
              "    <tr>\n",
              "      <th>0</th>\n",
              "      <td>SXSW Events Canceled Over Coronavirus Concerns</td>\n",
              "      <td>South by Southwest — a massive art, music and ...</td>\n",
              "      <td>March</td>\n",
              "      <td>7</td>\n",
              "      <td>2020</td>\n",
              "      <td>https://www.npr.org/2020/03/07/813192987/sxsw-...</td>\n",
              "    </tr>\n",
              "    <tr>\n",
              "      <th>1</th>\n",
              "      <td>The Show Will Not Go On: Austin Cancels SXSW B...</td>\n",
              "      <td>\"We are devastated to share this news with you...</td>\n",
              "      <td>March</td>\n",
              "      <td>6</td>\n",
              "      <td>2020</td>\n",
              "      <td>https://www.npr.org/2020/03/06/813023174/the-s...</td>\n",
              "    </tr>\n",
              "    <tr>\n",
              "      <th>2</th>\n",
              "      <td>How Russia Is Trying To Boost Bernie Sanders' ...</td>\n",
              "      <td>Sen. Sanders says he was briefed by the intell...</td>\n",
              "      <td>March</td>\n",
              "      <td>5</td>\n",
              "      <td>2020</td>\n",
              "      <td>https://www.npr.org/2020/03/05/812186614/how-r...</td>\n",
              "    </tr>\n",
              "    <tr>\n",
              "      <th>3</th>\n",
              "      <td>Report: Russian Election Trolling Becoming Sub...</td>\n",
              "      <td>A cache of Instagram posts has yielded what re...</td>\n",
              "      <td>March</td>\n",
              "      <td>5</td>\n",
              "      <td>2020</td>\n",
              "      <td>https://www.npr.org/2020/03/05/812497423/repor...</td>\n",
              "    </tr>\n",
              "    <tr>\n",
              "      <th>4</th>\n",
              "      <td>Coronavirus Concerns Stymie Live Music Perform...</td>\n",
              "      <td>Organizers, public officials, musicians and ot...</td>\n",
              "      <td>March</td>\n",
              "      <td>5</td>\n",
              "      <td>2020</td>\n",
              "      <td>https://www.npr.org/2020/03/05/812487700/coron...</td>\n",
              "    </tr>\n",
              "  </tbody>\n",
              "</table>\n",
              "</div>"
            ],
            "text/plain": [
              "                                               Title  ...                                                url\n",
              "0     SXSW Events Canceled Over Coronavirus Concerns  ...  https://www.npr.org/2020/03/07/813192987/sxsw-...\n",
              "1  The Show Will Not Go On: Austin Cancels SXSW B...  ...  https://www.npr.org/2020/03/06/813023174/the-s...\n",
              "2  How Russia Is Trying To Boost Bernie Sanders' ...  ...  https://www.npr.org/2020/03/05/812186614/how-r...\n",
              "3  Report: Russian Election Trolling Becoming Sub...  ...  https://www.npr.org/2020/03/05/812497423/repor...\n",
              "4  Coronavirus Concerns Stymie Live Music Perform...  ...  https://www.npr.org/2020/03/05/812487700/coron...\n",
              "\n",
              "[5 rows x 6 columns]"
            ]
          },
          "metadata": {
            "tags": []
          },
          "execution_count": 22
        }
      ]
    },
    {
      "cell_type": "code",
      "metadata": {
        "id": "yYijD8urqr9k"
      },
      "source": [
        "# Task 3 - Repeat the work above to collect article information from NPR's science archive\n",
        "# https://www.npr.org/sections/science/archive\n",
        "# Put the information in a pandas DataFrame called nprsci and then merge the two into a single \n",
        "# DataFrame via\n",
        "# nprscitech = nprsci.append(nprtech, ignore_index=True)\n",
        "\n"
      ],
      "execution_count": null,
      "outputs": []
    },
    {
      "cell_type": "code",
      "metadata": {
        "id": "InBrhUojh_Cz"
      },
      "source": [
        ""
      ],
      "execution_count": null,
      "outputs": []
    },
    {
      "cell_type": "code",
      "metadata": {
        "id": "HlFakUI8id9o"
      },
      "source": [
        ""
      ],
      "execution_count": null,
      "outputs": []
    },
    {
      "cell_type": "code",
      "metadata": {
        "id": "qpHhERVwiwiX"
      },
      "source": [
        ""
      ],
      "execution_count": null,
      "outputs": []
    },
    {
      "cell_type": "code",
      "metadata": {
        "id": "OIHFhSKgi3tb"
      },
      "source": [
        ""
      ],
      "execution_count": null,
      "outputs": []
    },
    {
      "cell_type": "markdown",
      "metadata": {
        "id": "Qvz5DQDmqr9n"
      },
      "source": [
        "Are there any technology articles about Facebook?"
      ]
    },
    {
      "cell_type": "code",
      "metadata": {
        "id": "ThwFl5wuqr9n",
        "colab": {
          "base_uri": "https://localhost:8080/",
          "height": 80
        },
        "outputId": "a94a9203-6d2a-45a8-ba88-4ef1cd6512b3"
      },
      "source": [
        "nprtech[nprtech['Title'].str.contains(\"Facebook\") | nprtech['Teaser'].str.contains(\"Facebook\")]"
      ],
      "execution_count": null,
      "outputs": [
        {
          "output_type": "execute_result",
          "data": {
            "text/html": [
              "<div>\n",
              "<style scoped>\n",
              "    .dataframe tbody tr th:only-of-type {\n",
              "        vertical-align: middle;\n",
              "    }\n",
              "\n",
              "    .dataframe tbody tr th {\n",
              "        vertical-align: top;\n",
              "    }\n",
              "\n",
              "    .dataframe thead th {\n",
              "        text-align: right;\n",
              "    }\n",
              "</style>\n",
              "<table border=\"1\" class=\"dataframe\">\n",
              "  <thead>\n",
              "    <tr style=\"text-align: right;\">\n",
              "      <th></th>\n",
              "      <th>Title</th>\n",
              "      <th>Teaser</th>\n",
              "      <th>Month</th>\n",
              "      <th>Day</th>\n",
              "      <th>Year</th>\n",
              "      <th>url</th>\n",
              "    </tr>\n",
              "  </thead>\n",
              "  <tbody>\n",
              "    <tr>\n",
              "      <th>5</th>\n",
              "      <td>Amazon, Facebook, Google, Microsoft Tell Seatt...</td>\n",
              "      <td>U.S. companies are trying to limit disruption ...</td>\n",
              "      <td>March</td>\n",
              "      <td>5</td>\n",
              "      <td>2020</td>\n",
              "      <td>https://www.npr.org/2020/03/05/812173963/coron...</td>\n",
              "    </tr>\n",
              "  </tbody>\n",
              "</table>\n",
              "</div>"
            ],
            "text/plain": [
              "                                               Title  ...                                                url\n",
              "5  Amazon, Facebook, Google, Microsoft Tell Seatt...  ...  https://www.npr.org/2020/03/05/812173963/coron...\n",
              "\n",
              "[1 rows x 6 columns]"
            ]
          },
          "metadata": {
            "tags": []
          },
          "execution_count": 23
        }
      ]
    },
    {
      "cell_type": "code",
      "metadata": {
        "id": "5G8iHS46qr9r"
      },
      "source": [
        "# Task 4\n",
        "# Search the collected news articles for another tech company or term of your choice"
      ],
      "execution_count": null,
      "outputs": []
    },
    {
      "cell_type": "code",
      "metadata": {
        "id": "lB9hpMU7qr9t"
      },
      "source": [
        ""
      ],
      "execution_count": null,
      "outputs": []
    }
  ]
}